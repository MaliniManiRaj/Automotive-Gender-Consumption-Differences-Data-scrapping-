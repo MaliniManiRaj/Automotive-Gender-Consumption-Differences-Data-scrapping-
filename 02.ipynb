{
 "cells": [
  {
   "cell_type": "code",
   "execution_count": 1,
   "metadata": {},
   "outputs": [],
   "source": [
    "import numpy as np\n",
    "import pickle5 as pickle"
   ]
  },
  {
   "cell_type": "code",
   "execution_count": 2,
   "metadata": {},
   "outputs": [],
   "source": [
    "with open('scraped_cars_data.pickle','rb') as f:\n",
    "    scraped_cars_data = pickle.load(f)"
   ]
  },
  {
   "cell_type": "code",
   "execution_count": 3,
   "metadata": {},
   "outputs": [],
   "source": [
    "with open('scraped_static_data.pickle','rb') as f:\n",
    "    scraped_static_data = pickle.load(f)"
   ]
  },
  {
   "cell_type": "code",
   "execution_count": 4,
   "metadata": {},
   "outputs": [
    {
     "data": {
      "text/plain": [
       "dict_keys(['ABARTH 500', 'ALFA ROMEO 145', 'ALFA ROMEO 146', 'ALFA ROMEO 147', 'ALFA ROMEO 155', 'ALFA ROMEO 156', 'ALFA ROMEO 159', 'ALFA ROMEO 164', 'ALFA ROMEO 166', 'ALFA ROMEO 33', 'ALFA ROMEO 75', 'ALFA ROMEO ALFASUD', 'ALFA ROMEO BRERA', 'ALFA ROMEO GIULIETTA', 'ALFA ROMEO GT', 'ALFA ROMEO GTV', 'ALFA ROMEO MITO', 'ALFA ROMEO SPIDER', 'ALFA ROMEO SPRINT', 'ASTON MARTIN DB7', 'ASTON MARTIN DB9', 'ASTON MARTIN VANTAGE', 'AUDI 100', 'AUDI 200', 'AUDI 80', 'AUDI 90', 'AUDI A1', 'AUDI A2', 'AUDI A3', 'AUDI A4', 'AUDI A6', 'AUDI A8', 'AUDI CABRIOLET', 'AUDI COUPE', 'AUDI Q3', 'AUDI Q5', 'AUDI Q7', 'AUDI QUATTRO', 'AUDI R8', 'AUDI RS4', 'AUDI RS6', 'AUDI S3', 'AUDI S4', 'AUSTIN ALLEGRO', 'AUSTIN MAESTRO', 'AUSTIN METRO', 'AUSTIN MINI', 'AUSTIN MONTEGO', 'BENTLEY ARNAGE', 'BENTLEY CONTINENTAL', 'BMW 1 SERIES', 'BMW 3 SERIES', 'BMW 5 SERIES', 'BMW 6 SERIES', 'BMW 7 SERIES', 'BMW 8 SERIES', 'BMW X1', 'BMW X3', 'BMW X5', 'BMW X6', 'CHEVROLET AVEO', 'CHEVROLET CAPTIVA', 'CHEVROLET CRUZE', 'CHEVROLET KALOS', 'CHEVROLET LACETTI', 'CHEVROLET MATIZ', 'CHEVROLET ORLANDO', 'CHEVROLET SPARK', 'CHEVROLET TACUMA', 'CHRYSLER 300', 'CHRYSLER CROSSFIRE', 'CHRYSLER NEON', 'CHRYSLER PT CRUISER', 'CHRYSLER SEBRING', 'CHRYSLER VOYAGER', 'CITROEN 2CV', 'CITROEN AX', 'CITROEN BERLINGO', 'CITROEN BX', 'CITROEN C-CROSSER', 'CITROEN C1', 'CITROEN C2', 'CITROEN C3', 'CITROEN C4', 'CITROEN C5', 'CITROEN C8', 'CITROEN CX', 'CITROEN DS3', 'CITROEN DS4', 'CITROEN DS5', 'CITROEN DYANE', 'CITROEN GSA', 'CITROEN LNA', 'CITROEN NEMO', 'CITROEN SAXO', 'CITROEN VISA', 'CITROEN XANTIA', 'CITROEN XM', 'CITROEN XSARA', 'CITROEN ZX', 'DACIA DUSTER', 'DACIA SANDERO', 'DAEWOO ESPERO', 'DAEWOO KALOS', 'DAEWOO LACETTI', 'DAEWOO LANOS', 'DAEWOO LEGANZA', 'DAEWOO MATIZ', 'DAEWOO NEXIA', 'DAEWOO NUBIRA', 'DAEWOO TACUMA', 'DAIHATSU APPLAUSE', 'DAIHATSU CHARADE', 'DAIHATSU CHARMANT', 'DAIHATSU COPEN', 'DAIHATSU CUORE', 'DAIHATSU GRAND MOVE', 'DAIHATSU MOVE', 'DAIHATSU SIRION', 'DAIHATSU TERIOS', 'DAIMLER 3.6', 'DAIMLER 4.0', 'DAIMLER 4.2', 'DAIMLER DOUBLE SIX', 'DAIMLER V8', 'DATSUN BLUEBIRD', 'DATSUN CHERRY', 'DATSUN LAUREL', 'DATSUN STANZA', 'DATSUN SUNNY', 'DODGE CALIBER', 'DODGE JOURNEY', 'DODGE NITRO', 'FERRARI F430', 'FIAT 126', 'FIAT 127', 'FIAT 500', 'FIAT BARCHETTA', 'FIAT BRAVA', 'FIAT BRAVO', 'FIAT CINQUECENTO', 'FIAT COUPE', 'FIAT CROMA', 'FIAT DOBLO', 'FIAT IDEA', 'FIAT MAREA', 'FIAT MULTIPLA', 'FIAT PANDA', 'FIAT PUNTO', 'FIAT QUBO', 'FIAT REGATA', 'FIAT SEDICI', 'FIAT SEICENTO', 'FIAT STILO', 'FIAT STRADA', 'FIAT TEMPRA', 'FIAT TIPO', 'FIAT ULYSSE', 'FIAT UNO', 'FORD B-MAX', 'FORD C-MAX', 'FORD CAPRI', 'FORD COUGAR', 'FORD ESCORT', 'FORD EXPLORER', 'FORD FIESTA', 'FORD FOCUS', 'FORD FUSION', 'FORD GALAXY', 'FORD GRANADA', 'FORD KA', 'FORD KUGA', 'FORD MONDEO', 'FORD MUSTANG', 'FORD ORION', 'FORD PROBE', 'FORD PUMA', 'FORD S-MAX', 'FORD SCORPIO', 'FORD SIERRA', 'FORD STREETKA', 'FORD TRANSIT', 'HONDA ACCORD', 'HONDA CIVIC', 'HONDA CONCERTO', 'HONDA CR-Z', 'HONDA CRX', 'HONDA FR-V', 'HONDA HR-V', 'HONDA INSIGHT', 'HONDA INTEGRA', 'HONDA JAZZ', 'HONDA LEGEND', 'HONDA LOGO', 'HONDA PRELUDE', 'HONDA QUINTET', 'HONDA S2000', 'HONDA SHUTTLE', 'HONDA STREAM', 'HYUNDAI ACCENT', 'HYUNDAI ATOZ', 'HYUNDAI COUPE', 'HYUNDAI ELANTRA', 'HYUNDAI GETZ', 'HYUNDAI I10', 'HYUNDAI I20', 'HYUNDAI I30', 'HYUNDAI I40', 'HYUNDAI IX20', 'HYUNDAI IX35', 'HYUNDAI LANTRA', 'HYUNDAI MATRIX', 'HYUNDAI PONY', 'HYUNDAI S-COUPE', 'HYUNDAI SANTA FE', 'HYUNDAI SONATA', 'HYUNDAI STELLAR', 'HYUNDAI TERRACAN', 'HYUNDAI TRAJET', 'HYUNDAI TUCSON', 'HYUNDAI VELOSTER', 'HYUNDAI X2', 'JAGUAR S TYPE', 'JAGUAR X TYPE', 'JAGUAR XK', 'JAGUAR XK8', 'JAGUAR XKR', 'JEEP CHEROKEE', 'JEEP COMMANDER', 'JEEP COMPASS', 'JEEP PATRIOT', 'JEEP WRANGLER', 'KIA CARENS', 'KIA CEED', 'KIA CERATO', 'KIA MAGENTIS', 'KIA MENTOR', 'KIA OPTIMA', 'KIA PICANTO', 'KIA PRIDE', 'KIA RIO', 'KIA SHUMA', 'KIA SORENTO', 'KIA SOUL', 'KIA SPORTAGE', 'KIA VENGA', 'LADA 1200', 'LADA NIVA', 'LADA SAMARA', 'LANCIA DEDRA', 'LANCIA DELTA', 'LANCIA PRISMA', 'LANCIA THEMA', 'LAND ROVER DEFENDER', 'LAND ROVER DISCOVERY', 'LAND ROVER FREELANDER', 'LAND ROVER RANGE ROVER', 'LOTUS ELISE', 'LOTUS ESPRIT', 'MAZDA 121', 'MAZDA 2', 'MAZDA 3', 'MAZDA 323', 'MAZDA 5', 'MAZDA 6', 'MAZDA 626', 'MAZDA 929', 'MAZDA DEMIO', 'MAZDA MPV', 'MAZDA MX-3', 'MAZDA MX-5', 'MAZDA MX-6', 'MAZDA PREMACY', 'MAZDA TRIBUTE', 'MAZDA XEDOS', 'MG TF', 'MG ZR', 'MG ZS', 'MG ZT', 'MITSUBISHI ASX', 'MITSUBISHI CARISMA', 'MITSUBISHI COLT', 'MITSUBISHI GALANT', 'MITSUBISHI GRANDIS', 'MITSUBISHI LANCER', 'MITSUBISHI OUTLANDER', 'MITSUBISHI PAJERO', 'MITSUBISHI SPACE RUNNER', 'MITSUBISHI SPACE STAR', 'MITSUBISHI SPACE WAGON', 'MORGAN 4/4', 'MORRIS ITAL', 'MORRIS MARINA', 'NISSAN 370', 'NISSAN ALMERA', 'NISSAN BLUEBIRD', 'NISSAN CHERRY', 'NISSAN JUKE', 'NISSAN LAUREL', 'NISSAN LEAF', 'NISSAN MAXIMA', 'NISSAN MICRA', 'NISSAN MURANO', 'NISSAN NOTE', 'NISSAN PATHFINDER', 'NISSAN PIXO', 'NISSAN PRAIRIE', 'NISSAN PRIMERA', 'NISSAN QASHQAI', 'NISSAN SERENA', 'NISSAN SILVIA', 'NISSAN STANZA', 'NISSAN SUNNY', 'NISSAN TERRANO', 'NISSAN X-TRAIL', 'OPEL ASCONA', 'OPEL KADETT', 'OPEL MANTA', 'OPEL MONZA', 'OPEL REKORD', 'OPEL SENATOR', 'OPEL ZAFIRA', 'PEUGEOT 1007', 'PEUGEOT 104', 'PEUGEOT 106', 'PEUGEOT 107', 'PEUGEOT 2008', 'PEUGEOT 205', 'PEUGEOT 206', 'PEUGEOT 207', 'PEUGEOT 208', 'PEUGEOT 3008', 'PEUGEOT 305', 'PEUGEOT 306', 'PEUGEOT 307', 'PEUGEOT 308', 'PEUGEOT 309', 'PEUGEOT 4007', 'PEUGEOT 405', 'PEUGEOT 406', 'PEUGEOT 407', 'PEUGEOT 5008', 'PEUGEOT 504', 'PEUGEOT 505', 'PEUGEOT 508', 'PEUGEOT 605', 'PEUGEOT 607', 'PEUGEOT 806', 'PEUGEOT 807', 'PEUGEOT BIPPER', 'PEUGEOT EXPERT', 'PEUGEOT PARTNER', 'PEUGEOT RCZ', 'PORSCHE 911', 'PORSCHE 924', 'PORSCHE 928', 'PORSCHE 944', 'PORSCHE BOXSTER', 'PORSCHE CARRERA', 'PORSCHE CAYENNE', 'PORSCHE CAYMAN', 'PORSCHE PANAMERA', 'RENAULT 11', 'RENAULT 14', 'RENAULT 18', 'RENAULT 19', 'RENAULT 20', 'RENAULT 21', 'RENAULT 25', 'RENAULT 4', 'RENAULT 5', 'RENAULT 9', 'RENAULT CAPTUR', 'RENAULT CLIO', 'RENAULT ESPACE', 'RENAULT FUEGO', 'RENAULT KANGOO', 'RENAULT KOLEOS', 'RENAULT LAGUNA', 'RENAULT MEGANE', 'RENAULT MODUS', 'RENAULT SAFRANE', 'RENAULT SCENIC', 'RENAULT TRAFIC', 'RENAULT TWINGO', 'RENAULT VEL SATIS', 'ROVER 100 SERIES', 'ROVER 200 SERIES', 'ROVER 25', 'ROVER 400 SERIES', 'ROVER 45', 'ROVER 600 SERIES', 'ROVER 75', 'ROVER 800 SERIES', 'ROVER CITYROVER', 'ROVER MINI', 'ROVER SD1', 'ROVER STREETWISE', 'SAAB 9-3', 'SAAB 9-5', 'SAAB 900', 'SAAB 9000', 'SAAB 99', 'SEAT ALHAMBRA', 'SEAT ALTEA', 'SEAT AROSA', 'SEAT CORDOBA', 'SEAT EXEO', 'SEAT IBIZA', 'SEAT LEON', 'SEAT MALAGA', 'SEAT MARBELLA', 'SEAT MII', 'SEAT TOLEDO', 'SKODA 105', 'SKODA 120', 'SKODA CITIGO', 'SKODA FABIA', 'SKODA FAVORIT', 'SKODA FELICIA', 'SKODA OCTAVIA', 'SKODA RAPID', 'SKODA ROOMSTER', 'SKODA SUPERB', 'SKODA YETI', 'SMART FORFOUR', 'SMART FORTWO', 'SMART ROADSTER', 'SSANGYONG KORANDO', 'SSANGYONG MUSSO', 'SSANGYONG REXTON', 'SSANGYONG RODIUS', 'SUBARU FORESTER', 'SUBARU IMPREZA', 'SUBARU JUSTY', 'SUBARU LEGACY', 'SUBARU OUTBACK', 'SUBARU XV', 'SUZUKI ALTO', 'SUZUKI BALENO', 'SUZUKI IGNIS', 'SUZUKI JIMNY', 'SUZUKI LIANA', 'SUZUKI SJ', 'SUZUKI SPLASH', 'SUZUKI SWIFT', 'SUZUKI SX4', 'SUZUKI VITARA', 'SUZUKI WAGON R+', 'SUZUKI X-90', 'TALBOT HORIZON', 'TALBOT SAMBA', 'TALBOT SOLARA', 'TALBOT SUNBEAM', 'TOYOTA 4-RUNNER', 'TOYOTA AURIS', 'TOYOTA AVENSIS', 'TOYOTA AYGO', 'TOYOTA CAMRY', 'TOYOTA CARINA', 'TOYOTA CELICA', 'TOYOTA COROLLA', 'TOYOTA CRESSIDA', 'TOYOTA GT86', 'TOYOTA HILUX', 'TOYOTA IQ', 'TOYOTA MR2', 'TOYOTA PASEO', 'TOYOTA PICNIC', 'TOYOTA PREVIA', 'TOYOTA PRIUS', 'TOYOTA RAV4', 'TOYOTA STARLET', 'TOYOTA SUPRA', 'TOYOTA TERCEL', 'TOYOTA URBAN CRUISER', 'TOYOTA VERSO', 'TOYOTA YARIS', 'TRIUMPH ACCLAIM', 'TVR CHIMERA', 'TVR GRIFFITH', 'TVR TUSCAN', 'VOLKSWAGEN BEETLE', 'VOLKSWAGEN BORA', 'VOLKSWAGEN CADDY', 'VOLKSWAGEN CC', 'VOLKSWAGEN CORRADO', 'VOLKSWAGEN DERBY', 'VOLKSWAGEN EOS', 'VOLKSWAGEN FOX', 'VOLKSWAGEN GOLF', 'VOLKSWAGEN JETTA', 'VOLKSWAGEN LUPO', 'VOLKSWAGEN PASSAT', 'VOLKSWAGEN PHAETON', 'VOLKSWAGEN POLO', 'VOLKSWAGEN SANTANA', 'VOLKSWAGEN SCIROCCO', 'VOLKSWAGEN SHARAN', 'VOLKSWAGEN TIGUAN', 'VOLKSWAGEN TOUAREG', 'VOLKSWAGEN TOURAN', 'VOLKSWAGEN UP', 'VOLKSWAGEN URBAN', 'VOLKSWAGEN VENTO', 'VOLVO 240', 'VOLVO 244', 'VOLVO 245', 'VOLVO 264', 'VOLVO 265', 'VOLVO 340', 'VOLVO 343', 'VOLVO 345', 'VOLVO 360', 'VOLVO 440', 'VOLVO 460', 'VOLVO 480', 'VOLVO 740', 'VOLVO 760', 'VOLVO 850', 'VOLVO 940', 'VOLVO 960', 'VOLVO C30', 'VOLVO C70', 'VOLVO S40', 'VOLVO S60', 'VOLVO S70', 'VOLVO S80', 'VOLVO V40', 'VOLVO V50', 'VOLVO V60', 'VOLVO V70', 'VOLVO XC60', 'VOLVO XC70', 'VOLVO XC90'])"
      ]
     },
     "execution_count": 4,
     "metadata": {},
     "output_type": "execute_result"
    }
   ],
   "source": [
    "scraped_cars_data.keys()"
   ]
  },
  {
   "cell_type": "code",
   "execution_count": 5,
   "metadata": {},
   "outputs": [],
   "source": [
    "image_names = list(map(lambda x: x.split('/')[-1], scraped_static_data.values()))"
   ]
  },
  {
   "cell_type": "code",
   "execution_count": 6,
   "metadata": {},
   "outputs": [
    {
     "data": {
      "text/plain": [
       "24725"
      ]
     },
     "execution_count": 6,
     "metadata": {},
     "output_type": "execute_result"
    }
   ],
   "source": [
    "len(image_names)"
   ]
  },
  {
   "cell_type": "code",
   "execution_count": 7,
   "metadata": {},
   "outputs": [
    {
     "data": {
      "text/plain": [
       "24308"
      ]
     },
     "execution_count": 7,
     "metadata": {},
     "output_type": "execute_result"
    }
   ],
   "source": [
    "len(set(image_names))"
   ]
  },
  {
   "cell_type": "code",
   "execution_count": 8,
   "metadata": {},
   "outputs": [],
   "source": [
    "u, c = np.unique(image_names, return_counts=True)\n",
    "dup = u[c > 1]"
   ]
  },
  {
   "cell_type": "code",
   "execution_count": 9,
   "metadata": {},
   "outputs": [
    {
     "data": {
      "text/plain": [
       "array(['hyundai-coupe_975_1.jpg', 'hyundai-coupe_975_2.jpg',\n",
       "       'hyundai-coupe_975_3.jpg', 'hyundai-coupe_975_4.jpg',\n",
       "       'hyundai-coupe_976_1.jpg', 'hyundai-coupe_976_2.jpg',\n",
       "       'hyundai-coupe_976_3.jpg', 'hyundai-coupe_976_4.jpg',\n",
       "       'hyundai-coupe_977_1.jpg', 'hyundai-coupe_977_10.jpg',\n",
       "       'hyundai-coupe_977_2.jpg', 'hyundai-coupe_977_3.jpg',\n",
       "       'hyundai-coupe_977_4.jpg', 'hyundai-coupe_977_5.jpg',\n",
       "       'hyundai-coupe_977_6.jpg', 'hyundai-coupe_977_7.jpg',\n",
       "       'hyundai-coupe_977_8.jpg', 'hyundai-coupe_977_9.jpg',\n",
       "       'hyundai-coupe_978_1.jpg', 'hyundai-coupe_978_10.jpg',\n",
       "       'hyundai-coupe_978_11.jpg', 'hyundai-coupe_978_2.jpg',\n",
       "       'hyundai-coupe_978_3.jpg', 'hyundai-coupe_978_4.jpg',\n",
       "       'hyundai-coupe_978_5.jpg', 'hyundai-coupe_978_6.jpg',\n",
       "       'hyundai-coupe_978_7.jpg', 'hyundai-coupe_978_8.jpg',\n",
       "       'hyundai-coupe_978_9.jpg', 'hyundai-coupe_979_1.jpg',\n",
       "       'hyundai-coupe_979_10.jpg', 'hyundai-coupe_979_11.jpg',\n",
       "       'hyundai-coupe_979_12.jpg', 'hyundai-coupe_979_13.jpg',\n",
       "       'hyundai-coupe_979_14.jpg', 'hyundai-coupe_979_15.jpg',\n",
       "       'hyundai-coupe_979_16.jpg', 'hyundai-coupe_979_17.jpg',\n",
       "       'hyundai-coupe_979_18.jpg', 'hyundai-coupe_979_19.jpg',\n",
       "       'hyundai-coupe_979_2.jpg', 'hyundai-coupe_979_3.jpg',\n",
       "       'hyundai-coupe_979_4.jpg', 'hyundai-coupe_979_5.jpg',\n",
       "       'hyundai-coupe_979_6.jpg', 'hyundai-coupe_979_7.jpg',\n",
       "       'hyundai-coupe_979_8.jpg', 'hyundai-coupe_979_9.jpg',\n",
       "       'hyundai-ix20_1011_1.jpg', 'hyundai-ix20_1011_10.jpg',\n",
       "       'hyundai-ix20_1011_11.jpg', 'hyundai-ix20_1011_12.jpg',\n",
       "       'hyundai-ix20_1011_13.jpg', 'hyundai-ix20_1011_14.jpg',\n",
       "       'hyundai-ix20_1011_15.jpg', 'hyundai-ix20_1011_16.jpg',\n",
       "       'hyundai-ix20_1011_17.jpg', 'hyundai-ix20_1011_18.jpg',\n",
       "       'hyundai-ix20_1011_19.jpg', 'hyundai-ix20_1011_2.jpg',\n",
       "       'hyundai-ix20_1011_20.jpg', 'hyundai-ix20_1011_21.jpg',\n",
       "       'hyundai-ix20_1011_22.jpg', 'hyundai-ix20_1011_23.jpg',\n",
       "       'hyundai-ix20_1011_24.jpg', 'hyundai-ix20_1011_25.jpg',\n",
       "       'hyundai-ix20_1011_26.jpg', 'hyundai-ix20_1011_27.jpg',\n",
       "       'hyundai-ix20_1011_28.jpg', 'hyundai-ix20_1011_29.jpg',\n",
       "       'hyundai-ix20_1011_3.jpg', 'hyundai-ix20_1011_30.jpg',\n",
       "       'hyundai-ix20_1011_31.jpg', 'hyundai-ix20_1011_32.jpg',\n",
       "       'hyundai-ix20_1011_33.jpg', 'hyundai-ix20_1011_4.jpg',\n",
       "       'hyundai-ix20_1011_5.jpg', 'hyundai-ix20_1011_6.jpg',\n",
       "       'hyundai-ix20_1011_7.jpg', 'hyundai-ix20_1011_8.jpg',\n",
       "       'hyundai-ix20_1011_9.jpg', 'hyundai-ix20_3430_1.jpg',\n",
       "       'hyundai-ix20_3430_10.jpg', 'hyundai-ix20_3430_11.jpg',\n",
       "       'hyundai-ix20_3430_12.jpg', 'hyundai-ix20_3430_13.jpg',\n",
       "       'hyundai-ix20_3430_14.jpg', 'hyundai-ix20_3430_15.jpg',\n",
       "       'hyundai-ix20_3430_2.jpg', 'hyundai-ix20_3430_3.jpg',\n",
       "       'hyundai-ix20_3430_4.jpg', 'hyundai-ix20_3430_5.jpg',\n",
       "       'hyundai-ix20_3430_6.jpg', 'hyundai-ix20_3430_7.jpg',\n",
       "       'hyundai-ix20_3430_8.jpg', 'hyundai-ix20_3430_9.jpg',\n",
       "       'jaguar-xk_1078_1.jpg', 'jaguar-xk_1078_2.jpg',\n",
       "       'jaguar-xk_1078_3.jpg', 'jaguar-xk_1078_4.jpg',\n",
       "       'jaguar-xk_1079_1.jpg', 'jaguar-xk_1079_10.jpg',\n",
       "       'jaguar-xk_1079_2.jpg', 'jaguar-xk_1079_3.jpg',\n",
       "       'jaguar-xk_1079_4.jpg', 'jaguar-xk_1079_5.jpg',\n",
       "       'jaguar-xk_1079_6.jpg', 'jaguar-xk_1079_7.jpg',\n",
       "       'jaguar-xk_1079_8.jpg', 'jaguar-xk_1079_9.jpg',\n",
       "       'jaguar-xk_1080_1.jpg', 'jaguar-xk_1080_10.jpg',\n",
       "       'jaguar-xk_1080_11.jpg', 'jaguar-xk_1080_12.jpg',\n",
       "       'jaguar-xk_1080_13.jpg', 'jaguar-xk_1080_14.jpg',\n",
       "       'jaguar-xk_1080_15.jpg', 'jaguar-xk_1080_16.jpg',\n",
       "       'jaguar-xk_1080_17.jpg', 'jaguar-xk_1080_18.jpg',\n",
       "       'jaguar-xk_1080_19.jpg', 'jaguar-xk_1080_2.jpg',\n",
       "       'jaguar-xk_1080_20.jpg', 'jaguar-xk_1080_21.jpg',\n",
       "       'jaguar-xk_1080_22.jpg', 'jaguar-xk_1080_23.jpg',\n",
       "       'jaguar-xk_1080_24.jpg', 'jaguar-xk_1080_3.jpg',\n",
       "       'jaguar-xk_1080_4.jpg', 'jaguar-xk_1080_5.jpg',\n",
       "       'jaguar-xk_1080_6.jpg', 'jaguar-xk_1080_7.jpg',\n",
       "       'jaguar-xk_1080_8.jpg', 'jaguar-xk_1080_9.jpg',\n",
       "       'jaguar-xk_1081_1.jpg', 'jaguar-xk_1081_10.jpg',\n",
       "       'jaguar-xk_1081_11.jpg', 'jaguar-xk_1081_12.jpg',\n",
       "       'jaguar-xk_1081_13.jpg', 'jaguar-xk_1081_14.jpg',\n",
       "       'jaguar-xk_1081_15.jpg', 'jaguar-xk_1081_16.jpg',\n",
       "       'jaguar-xk_1081_17.jpg', 'jaguar-xk_1081_18.jpg',\n",
       "       'jaguar-xk_1081_19.jpg', 'jaguar-xk_1081_2.jpg',\n",
       "       'jaguar-xk_1081_20.jpg', 'jaguar-xk_1081_21.jpg',\n",
       "       'jaguar-xk_1081_22.jpg', 'jaguar-xk_1081_23.jpg',\n",
       "       'jaguar-xk_1081_24.jpg', 'jaguar-xk_1081_3.jpg',\n",
       "       'jaguar-xk_1081_4.jpg', 'jaguar-xk_1081_5.jpg',\n",
       "       'jaguar-xk_1081_6.jpg', 'jaguar-xk_1081_7.jpg',\n",
       "       'jaguar-xk_1081_8.jpg', 'jaguar-xk_1081_9.jpg',\n",
       "       'no-image-170x113.jpg', 'volkswagen-touran_2888_1.jpg',\n",
       "       'volkswagen-touran_2888_10.jpg', 'volkswagen-touran_2888_11.jpg',\n",
       "       'volkswagen-touran_2888_12.jpg', 'volkswagen-touran_2888_2.jpg',\n",
       "       'volkswagen-touran_2888_3.jpg', 'volkswagen-touran_2888_4.jpg',\n",
       "       'volkswagen-touran_2888_5.jpg', 'volkswagen-touran_2888_6.jpg',\n",
       "       'volkswagen-touran_2888_7.jpg', 'volkswagen-touran_2888_8.jpg',\n",
       "       'volkswagen-touran_2888_9.jpg', 'volkswagen-touran_2889_1.jpg',\n",
       "       'volkswagen-touran_2889_10.jpg', 'volkswagen-touran_2889_11.jpg',\n",
       "       'volkswagen-touran_2889_12.jpg', 'volkswagen-touran_2889_13.jpg',\n",
       "       'volkswagen-touran_2889_14.jpg', 'volkswagen-touran_2889_15.jpg',\n",
       "       'volkswagen-touran_2889_2.jpg', 'volkswagen-touran_2889_3.jpg',\n",
       "       'volkswagen-touran_2889_4.jpg', 'volkswagen-touran_2889_5.jpg',\n",
       "       'volkswagen-touran_2889_6.jpg', 'volkswagen-touran_2889_7.jpg',\n",
       "       'volkswagen-touran_2889_8.jpg', 'volkswagen-touran_2889_9.jpg',\n",
       "       'volkswagen-touran_2890_1.jpg', 'volkswagen-touran_2890_10.jpg',\n",
       "       'volkswagen-touran_2890_11.jpg', 'volkswagen-touran_2890_12.jpg',\n",
       "       'volkswagen-touran_2890_13.jpg', 'volkswagen-touran_2890_14.jpg',\n",
       "       'volkswagen-touran_2890_15.jpg', 'volkswagen-touran_2890_16.jpg',\n",
       "       'volkswagen-touran_2890_17.jpg', 'volkswagen-touran_2890_18.jpg',\n",
       "       'volkswagen-touran_2890_19.jpg', 'volkswagen-touran_2890_2.jpg',\n",
       "       'volkswagen-touran_2890_20.jpg', 'volkswagen-touran_2890_21.jpg',\n",
       "       'volkswagen-touran_2890_3.jpg', 'volkswagen-touran_2890_4.jpg',\n",
       "       'volkswagen-touran_2890_5.jpg', 'volkswagen-touran_2890_6.jpg',\n",
       "       'volkswagen-touran_2890_7.jpg', 'volkswagen-touran_2890_8.jpg',\n",
       "       'volkswagen-touran_2890_9.jpg', 'volkswagen-touran_3543_1.jpg',\n",
       "       'volkswagen-touran_3543_10.jpg', 'volkswagen-touran_3543_11.jpg',\n",
       "       'volkswagen-touran_3543_2.jpg', 'volkswagen-touran_3543_3.jpg',\n",
       "       'volkswagen-touran_3543_4.jpg', 'volkswagen-touran_3543_5.jpg',\n",
       "       'volkswagen-touran_3543_6.jpg', 'volkswagen-touran_3543_7.jpg',\n",
       "       'volkswagen-touran_3543_8.jpg', 'volkswagen-touran_3543_9.jpg'],\n",
       "      dtype='<U34')"
      ]
     },
     "execution_count": 9,
     "metadata": {},
     "output_type": "execute_result"
    }
   ],
   "source": [
    "np.unique(dup)"
   ]
  },
  {
   "cell_type": "code",
   "execution_count": 10,
   "metadata": {},
   "outputs": [
    {
     "name": "stdout",
     "output_type": "stream",
     "text": [
      "Number of scraped models before:  535\n",
      "Number of scraped models after:  533\n"
     ]
    }
   ],
   "source": [
    "\"\"\"\n",
    "Based on the analysis done in 01.ipynb, we will remove the following keys from scraped_cars_data\n",
    "\n",
    "1. Model: HYUNDAI X2 | Matched model: HYUNDAI IX20 | Max ratio: (91, 91)\n",
    "2. Model: VOLKSWAGEN URBAN | Matched model: VOLKSWAGEN TOURAN | Max ratio: (91, 91)\n",
    "\"\"\"\n",
    "\n",
    "print('Number of scraped models before: ', len(scraped_cars_data))\n",
    "del scraped_cars_data['HYUNDAI X2']\n",
    "del scraped_cars_data['VOLKSWAGEN URBAN']\n",
    "print('Number of scraped models after: ', len(scraped_cars_data))"
   ]
  },
  {
   "cell_type": "code",
   "execution_count": 11,
   "metadata": {},
   "outputs": [
    {
     "data": {
      "text/plain": [
       "dict_keys(['ABARTH 500', 'ALFA ROMEO 145', 'ALFA ROMEO 146', 'ALFA ROMEO 147', 'ALFA ROMEO 155', 'ALFA ROMEO 156', 'ALFA ROMEO 159', 'ALFA ROMEO 164', 'ALFA ROMEO 166', 'ALFA ROMEO 33', 'ALFA ROMEO 75', 'ALFA ROMEO ALFASUD', 'ALFA ROMEO BRERA', 'ALFA ROMEO GIULIETTA', 'ALFA ROMEO GT', 'ALFA ROMEO GTV', 'ALFA ROMEO MITO', 'ALFA ROMEO SPIDER', 'ALFA ROMEO SPRINT', 'ASTON MARTIN DB7', 'ASTON MARTIN DB9', 'ASTON MARTIN VANTAGE', 'AUDI 100', 'AUDI 200', 'AUDI 80', 'AUDI 90', 'AUDI A1', 'AUDI A2', 'AUDI A3', 'AUDI A4', 'AUDI A6', 'AUDI A8', 'AUDI CABRIOLET', 'AUDI COUPE', 'AUDI Q3', 'AUDI Q5', 'AUDI Q7', 'AUDI QUATTRO', 'AUDI R8', 'AUDI RS4', 'AUDI RS6', 'AUDI S3', 'AUDI S4', 'AUSTIN ALLEGRO', 'AUSTIN MAESTRO', 'AUSTIN METRO', 'AUSTIN MINI', 'AUSTIN MONTEGO', 'BENTLEY ARNAGE', 'BENTLEY CONTINENTAL', 'BMW 1 SERIES', 'BMW 3 SERIES', 'BMW 5 SERIES', 'BMW 6 SERIES', 'BMW 7 SERIES', 'BMW 8 SERIES', 'BMW X1', 'BMW X3', 'BMW X5', 'BMW X6', 'CHEVROLET AVEO', 'CHEVROLET CAPTIVA', 'CHEVROLET CRUZE', 'CHEVROLET KALOS', 'CHEVROLET LACETTI', 'CHEVROLET MATIZ', 'CHEVROLET ORLANDO', 'CHEVROLET SPARK', 'CHEVROLET TACUMA', 'CHRYSLER 300', 'CHRYSLER CROSSFIRE', 'CHRYSLER NEON', 'CHRYSLER PT CRUISER', 'CHRYSLER SEBRING', 'CHRYSLER VOYAGER', 'CITROEN 2CV', 'CITROEN AX', 'CITROEN BERLINGO', 'CITROEN BX', 'CITROEN C-CROSSER', 'CITROEN C1', 'CITROEN C2', 'CITROEN C3', 'CITROEN C4', 'CITROEN C5', 'CITROEN C8', 'CITROEN CX', 'CITROEN DS3', 'CITROEN DS4', 'CITROEN DS5', 'CITROEN DYANE', 'CITROEN GSA', 'CITROEN LNA', 'CITROEN NEMO', 'CITROEN SAXO', 'CITROEN VISA', 'CITROEN XANTIA', 'CITROEN XM', 'CITROEN XSARA', 'CITROEN ZX', 'DACIA DUSTER', 'DACIA SANDERO', 'DAEWOO ESPERO', 'DAEWOO KALOS', 'DAEWOO LACETTI', 'DAEWOO LANOS', 'DAEWOO LEGANZA', 'DAEWOO MATIZ', 'DAEWOO NEXIA', 'DAEWOO NUBIRA', 'DAEWOO TACUMA', 'DAIHATSU APPLAUSE', 'DAIHATSU CHARADE', 'DAIHATSU CHARMANT', 'DAIHATSU COPEN', 'DAIHATSU CUORE', 'DAIHATSU GRAND MOVE', 'DAIHATSU MOVE', 'DAIHATSU SIRION', 'DAIHATSU TERIOS', 'DAIMLER 3.6', 'DAIMLER 4.0', 'DAIMLER 4.2', 'DAIMLER DOUBLE SIX', 'DAIMLER V8', 'DATSUN BLUEBIRD', 'DATSUN CHERRY', 'DATSUN LAUREL', 'DATSUN STANZA', 'DATSUN SUNNY', 'DODGE CALIBER', 'DODGE JOURNEY', 'DODGE NITRO', 'FERRARI F430', 'FIAT 126', 'FIAT 127', 'FIAT 500', 'FIAT BARCHETTA', 'FIAT BRAVA', 'FIAT BRAVO', 'FIAT CINQUECENTO', 'FIAT COUPE', 'FIAT CROMA', 'FIAT DOBLO', 'FIAT IDEA', 'FIAT MAREA', 'FIAT MULTIPLA', 'FIAT PANDA', 'FIAT PUNTO', 'FIAT QUBO', 'FIAT REGATA', 'FIAT SEDICI', 'FIAT SEICENTO', 'FIAT STILO', 'FIAT STRADA', 'FIAT TEMPRA', 'FIAT TIPO', 'FIAT ULYSSE', 'FIAT UNO', 'FORD B-MAX', 'FORD C-MAX', 'FORD CAPRI', 'FORD COUGAR', 'FORD ESCORT', 'FORD EXPLORER', 'FORD FIESTA', 'FORD FOCUS', 'FORD FUSION', 'FORD GALAXY', 'FORD GRANADA', 'FORD KA', 'FORD KUGA', 'FORD MONDEO', 'FORD MUSTANG', 'FORD ORION', 'FORD PROBE', 'FORD PUMA', 'FORD S-MAX', 'FORD SCORPIO', 'FORD SIERRA', 'FORD STREETKA', 'FORD TRANSIT', 'HONDA ACCORD', 'HONDA CIVIC', 'HONDA CONCERTO', 'HONDA CR-Z', 'HONDA CRX', 'HONDA FR-V', 'HONDA HR-V', 'HONDA INSIGHT', 'HONDA INTEGRA', 'HONDA JAZZ', 'HONDA LEGEND', 'HONDA LOGO', 'HONDA PRELUDE', 'HONDA QUINTET', 'HONDA S2000', 'HONDA SHUTTLE', 'HONDA STREAM', 'HYUNDAI ACCENT', 'HYUNDAI ATOZ', 'HYUNDAI COUPE', 'HYUNDAI ELANTRA', 'HYUNDAI GETZ', 'HYUNDAI I10', 'HYUNDAI I20', 'HYUNDAI I30', 'HYUNDAI I40', 'HYUNDAI IX20', 'HYUNDAI IX35', 'HYUNDAI LANTRA', 'HYUNDAI MATRIX', 'HYUNDAI PONY', 'HYUNDAI S-COUPE', 'HYUNDAI SANTA FE', 'HYUNDAI SONATA', 'HYUNDAI STELLAR', 'HYUNDAI TERRACAN', 'HYUNDAI TRAJET', 'HYUNDAI TUCSON', 'HYUNDAI VELOSTER', 'JAGUAR S TYPE', 'JAGUAR X TYPE', 'JAGUAR XK', 'JAGUAR XK8', 'JAGUAR XKR', 'JEEP CHEROKEE', 'JEEP COMMANDER', 'JEEP COMPASS', 'JEEP PATRIOT', 'JEEP WRANGLER', 'KIA CARENS', 'KIA CEED', 'KIA CERATO', 'KIA MAGENTIS', 'KIA MENTOR', 'KIA OPTIMA', 'KIA PICANTO', 'KIA PRIDE', 'KIA RIO', 'KIA SHUMA', 'KIA SORENTO', 'KIA SOUL', 'KIA SPORTAGE', 'KIA VENGA', 'LADA 1200', 'LADA NIVA', 'LADA SAMARA', 'LANCIA DEDRA', 'LANCIA DELTA', 'LANCIA PRISMA', 'LANCIA THEMA', 'LAND ROVER DEFENDER', 'LAND ROVER DISCOVERY', 'LAND ROVER FREELANDER', 'LAND ROVER RANGE ROVER', 'LOTUS ELISE', 'LOTUS ESPRIT', 'MAZDA 121', 'MAZDA 2', 'MAZDA 3', 'MAZDA 323', 'MAZDA 5', 'MAZDA 6', 'MAZDA 626', 'MAZDA 929', 'MAZDA DEMIO', 'MAZDA MPV', 'MAZDA MX-3', 'MAZDA MX-5', 'MAZDA MX-6', 'MAZDA PREMACY', 'MAZDA TRIBUTE', 'MAZDA XEDOS', 'MG TF', 'MG ZR', 'MG ZS', 'MG ZT', 'MITSUBISHI ASX', 'MITSUBISHI CARISMA', 'MITSUBISHI COLT', 'MITSUBISHI GALANT', 'MITSUBISHI GRANDIS', 'MITSUBISHI LANCER', 'MITSUBISHI OUTLANDER', 'MITSUBISHI PAJERO', 'MITSUBISHI SPACE RUNNER', 'MITSUBISHI SPACE STAR', 'MITSUBISHI SPACE WAGON', 'MORGAN 4/4', 'MORRIS ITAL', 'MORRIS MARINA', 'NISSAN 370', 'NISSAN ALMERA', 'NISSAN BLUEBIRD', 'NISSAN CHERRY', 'NISSAN JUKE', 'NISSAN LAUREL', 'NISSAN LEAF', 'NISSAN MAXIMA', 'NISSAN MICRA', 'NISSAN MURANO', 'NISSAN NOTE', 'NISSAN PATHFINDER', 'NISSAN PIXO', 'NISSAN PRAIRIE', 'NISSAN PRIMERA', 'NISSAN QASHQAI', 'NISSAN SERENA', 'NISSAN SILVIA', 'NISSAN STANZA', 'NISSAN SUNNY', 'NISSAN TERRANO', 'NISSAN X-TRAIL', 'OPEL ASCONA', 'OPEL KADETT', 'OPEL MANTA', 'OPEL MONZA', 'OPEL REKORD', 'OPEL SENATOR', 'OPEL ZAFIRA', 'PEUGEOT 1007', 'PEUGEOT 104', 'PEUGEOT 106', 'PEUGEOT 107', 'PEUGEOT 2008', 'PEUGEOT 205', 'PEUGEOT 206', 'PEUGEOT 207', 'PEUGEOT 208', 'PEUGEOT 3008', 'PEUGEOT 305', 'PEUGEOT 306', 'PEUGEOT 307', 'PEUGEOT 308', 'PEUGEOT 309', 'PEUGEOT 4007', 'PEUGEOT 405', 'PEUGEOT 406', 'PEUGEOT 407', 'PEUGEOT 5008', 'PEUGEOT 504', 'PEUGEOT 505', 'PEUGEOT 508', 'PEUGEOT 605', 'PEUGEOT 607', 'PEUGEOT 806', 'PEUGEOT 807', 'PEUGEOT BIPPER', 'PEUGEOT EXPERT', 'PEUGEOT PARTNER', 'PEUGEOT RCZ', 'PORSCHE 911', 'PORSCHE 924', 'PORSCHE 928', 'PORSCHE 944', 'PORSCHE BOXSTER', 'PORSCHE CARRERA', 'PORSCHE CAYENNE', 'PORSCHE CAYMAN', 'PORSCHE PANAMERA', 'RENAULT 11', 'RENAULT 14', 'RENAULT 18', 'RENAULT 19', 'RENAULT 20', 'RENAULT 21', 'RENAULT 25', 'RENAULT 4', 'RENAULT 5', 'RENAULT 9', 'RENAULT CAPTUR', 'RENAULT CLIO', 'RENAULT ESPACE', 'RENAULT FUEGO', 'RENAULT KANGOO', 'RENAULT KOLEOS', 'RENAULT LAGUNA', 'RENAULT MEGANE', 'RENAULT MODUS', 'RENAULT SAFRANE', 'RENAULT SCENIC', 'RENAULT TRAFIC', 'RENAULT TWINGO', 'RENAULT VEL SATIS', 'ROVER 100 SERIES', 'ROVER 200 SERIES', 'ROVER 25', 'ROVER 400 SERIES', 'ROVER 45', 'ROVER 600 SERIES', 'ROVER 75', 'ROVER 800 SERIES', 'ROVER CITYROVER', 'ROVER MINI', 'ROVER SD1', 'ROVER STREETWISE', 'SAAB 9-3', 'SAAB 9-5', 'SAAB 900', 'SAAB 9000', 'SAAB 99', 'SEAT ALHAMBRA', 'SEAT ALTEA', 'SEAT AROSA', 'SEAT CORDOBA', 'SEAT EXEO', 'SEAT IBIZA', 'SEAT LEON', 'SEAT MALAGA', 'SEAT MARBELLA', 'SEAT MII', 'SEAT TOLEDO', 'SKODA 105', 'SKODA 120', 'SKODA CITIGO', 'SKODA FABIA', 'SKODA FAVORIT', 'SKODA FELICIA', 'SKODA OCTAVIA', 'SKODA RAPID', 'SKODA ROOMSTER', 'SKODA SUPERB', 'SKODA YETI', 'SMART FORFOUR', 'SMART FORTWO', 'SMART ROADSTER', 'SSANGYONG KORANDO', 'SSANGYONG MUSSO', 'SSANGYONG REXTON', 'SSANGYONG RODIUS', 'SUBARU FORESTER', 'SUBARU IMPREZA', 'SUBARU JUSTY', 'SUBARU LEGACY', 'SUBARU OUTBACK', 'SUBARU XV', 'SUZUKI ALTO', 'SUZUKI BALENO', 'SUZUKI IGNIS', 'SUZUKI JIMNY', 'SUZUKI LIANA', 'SUZUKI SJ', 'SUZUKI SPLASH', 'SUZUKI SWIFT', 'SUZUKI SX4', 'SUZUKI VITARA', 'SUZUKI WAGON R+', 'SUZUKI X-90', 'TALBOT HORIZON', 'TALBOT SAMBA', 'TALBOT SOLARA', 'TALBOT SUNBEAM', 'TOYOTA 4-RUNNER', 'TOYOTA AURIS', 'TOYOTA AVENSIS', 'TOYOTA AYGO', 'TOYOTA CAMRY', 'TOYOTA CARINA', 'TOYOTA CELICA', 'TOYOTA COROLLA', 'TOYOTA CRESSIDA', 'TOYOTA GT86', 'TOYOTA HILUX', 'TOYOTA IQ', 'TOYOTA MR2', 'TOYOTA PASEO', 'TOYOTA PICNIC', 'TOYOTA PREVIA', 'TOYOTA PRIUS', 'TOYOTA RAV4', 'TOYOTA STARLET', 'TOYOTA SUPRA', 'TOYOTA TERCEL', 'TOYOTA URBAN CRUISER', 'TOYOTA VERSO', 'TOYOTA YARIS', 'TRIUMPH ACCLAIM', 'TVR CHIMERA', 'TVR GRIFFITH', 'TVR TUSCAN', 'VOLKSWAGEN BEETLE', 'VOLKSWAGEN BORA', 'VOLKSWAGEN CADDY', 'VOLKSWAGEN CC', 'VOLKSWAGEN CORRADO', 'VOLKSWAGEN DERBY', 'VOLKSWAGEN EOS', 'VOLKSWAGEN FOX', 'VOLKSWAGEN GOLF', 'VOLKSWAGEN JETTA', 'VOLKSWAGEN LUPO', 'VOLKSWAGEN PASSAT', 'VOLKSWAGEN PHAETON', 'VOLKSWAGEN POLO', 'VOLKSWAGEN SANTANA', 'VOLKSWAGEN SCIROCCO', 'VOLKSWAGEN SHARAN', 'VOLKSWAGEN TIGUAN', 'VOLKSWAGEN TOUAREG', 'VOLKSWAGEN TOURAN', 'VOLKSWAGEN UP', 'VOLKSWAGEN VENTO', 'VOLVO 240', 'VOLVO 244', 'VOLVO 245', 'VOLVO 264', 'VOLVO 265', 'VOLVO 340', 'VOLVO 343', 'VOLVO 345', 'VOLVO 360', 'VOLVO 440', 'VOLVO 460', 'VOLVO 480', 'VOLVO 740', 'VOLVO 760', 'VOLVO 850', 'VOLVO 940', 'VOLVO 960', 'VOLVO C30', 'VOLVO C70', 'VOLVO S40', 'VOLVO S60', 'VOLVO S70', 'VOLVO S80', 'VOLVO V40', 'VOLVO V50', 'VOLVO V60', 'VOLVO V70', 'VOLVO XC60', 'VOLVO XC70', 'VOLVO XC90'])"
      ]
     },
     "execution_count": 11,
     "metadata": {},
     "output_type": "execute_result"
    }
   ],
   "source": [
    "scraped_cars_data.keys()"
   ]
  },
  {
   "cell_type": "code",
   "execution_count": 12,
   "metadata": {},
   "outputs": [],
   "source": [
    "with open('scraped_cars_data.pickle', 'wb') as f:\n",
    "    pickle.dump(scraped_cars_data, f)"
   ]
  },
  {
   "cell_type": "code",
   "execution_count": null,
   "metadata": {},
   "outputs": [],
   "source": []
  }
 ],
 "metadata": {
  "kernelspec": {
   "display_name": "Python 3",
   "language": "python",
   "name": "python3"
  },
  "language_info": {
   "codemirror_mode": {
    "name": "ipython",
    "version": 3
   },
   "file_extension": ".py",
   "mimetype": "text/x-python",
   "name": "python",
   "nbconvert_exporter": "python",
   "pygments_lexer": "ipython3",
   "version": "3.8.8"
  }
 },
 "nbformat": 4,
 "nbformat_minor": 4
}
